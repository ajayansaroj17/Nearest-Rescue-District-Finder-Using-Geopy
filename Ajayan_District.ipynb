{
  "cells": [
    {
      "cell_type": "markdown",
      "metadata": {
        "id": "view-in-github",
        "colab_type": "text"
      },
      "source": [
        "<a href=\"https://colab.research.google.com/github/ajayansaroj17/Study-of-Geopy/blob/main/Ajayan_District.ipynb\" target=\"_parent\"><img src=\"https://colab.research.google.com/assets/colab-badge.svg\" alt=\"Open In Colab\"/></a>"
      ]
    },
    {
      "cell_type": "markdown",
      "id": "e4453389",
      "metadata": {
        "id": "e4453389"
      },
      "source": [
        "# Importing Data"
      ]
    },
    {
      "cell_type": "code",
      "execution_count": null,
      "id": "4ddaacc1",
      "metadata": {
        "scrolled": true,
        "id": "4ddaacc1",
        "outputId": "8198deb2-1d48-4a7f-933b-1015d2d3878e"
      },
      "outputs": [
        {
          "data": {
            "text/html": [
              "<div>\n",
              "<style scoped>\n",
              "    .dataframe tbody tr th:only-of-type {\n",
              "        vertical-align: middle;\n",
              "    }\n",
              "\n",
              "    .dataframe tbody tr th {\n",
              "        vertical-align: top;\n",
              "    }\n",
              "\n",
              "    .dataframe thead th {\n",
              "        text-align: right;\n",
              "    }\n",
              "</style>\n",
              "<table border=\"1\" class=\"dataframe\">\n",
              "  <thead>\n",
              "    <tr style=\"text-align: right;\">\n",
              "      <th></th>\n",
              "      <th>Date</th>\n",
              "      <th>State</th>\n",
              "      <th>District</th>\n",
              "      <th>Active</th>\n",
              "      <th>Confirmed</th>\n",
              "      <th>Recovered</th>\n",
              "      <th>Deaths</th>\n",
              "      <th>Vaccinated</th>\n",
              "      <th>Case fatality Ratio</th>\n",
              "      <th>Case Positivity</th>\n",
              "      <th>Risk percentage</th>\n",
              "    </tr>\n",
              "  </thead>\n",
              "  <tbody>\n",
              "    <tr>\n",
              "      <th>0</th>\n",
              "      <td>31/10/2021</td>\n",
              "      <td>Maharashtra</td>\n",
              "      <td>Ahmednagar</td>\n",
              "      <td>2292</td>\n",
              "      <td>339457</td>\n",
              "      <td>330122</td>\n",
              "      <td>7043</td>\n",
              "      <td>16.8</td>\n",
              "      <td>2.074784</td>\n",
              "      <td>6.52</td>\n",
              "      <td>9.829568</td>\n",
              "    </tr>\n",
              "    <tr>\n",
              "      <th>1</th>\n",
              "      <td>31/10/2021</td>\n",
              "      <td>Maharashtra</td>\n",
              "      <td>Akola</td>\n",
              "      <td>21</td>\n",
              "      <td>58764</td>\n",
              "      <td>57318</td>\n",
              "      <td>1425</td>\n",
              "      <td>15.4</td>\n",
              "      <td>2.424954</td>\n",
              "      <td>0.67</td>\n",
              "      <td>4.749908</td>\n",
              "    </tr>\n",
              "    <tr>\n",
              "      <th>2</th>\n",
              "      <td>31/10/2021</td>\n",
              "      <td>Maharashtra</td>\n",
              "      <td>Amravati</td>\n",
              "      <td>19</td>\n",
              "      <td>96231</td>\n",
              "      <td>94618</td>\n",
              "      <td>1594</td>\n",
              "      <td>20.1</td>\n",
              "      <td>1.656431</td>\n",
              "      <td>1.32</td>\n",
              "      <td>3.627862</td>\n",
              "    </tr>\n",
              "    <tr>\n",
              "      <th>3</th>\n",
              "      <td>31/10/2021</td>\n",
              "      <td>Maharashtra</td>\n",
              "      <td>Aurangabad</td>\n",
              "      <td>465</td>\n",
              "      <td>155331</td>\n",
              "      <td>150615</td>\n",
              "      <td>4251</td>\n",
              "      <td>12.8</td>\n",
              "      <td>2.736736</td>\n",
              "      <td>2.13</td>\n",
              "      <td>6.963473</td>\n",
              "    </tr>\n",
              "    <tr>\n",
              "      <th>4</th>\n",
              "      <td>31/10/2021</td>\n",
              "      <td>Maharashtra</td>\n",
              "      <td>Beed</td>\n",
              "      <td>140</td>\n",
              "      <td>103749</td>\n",
              "      <td>100803</td>\n",
              "      <td>2806</td>\n",
              "      <td>17.8</td>\n",
              "      <td>2.704604</td>\n",
              "      <td>1.76</td>\n",
              "      <td>6.279209</td>\n",
              "    </tr>\n",
              "  </tbody>\n",
              "</table>\n",
              "</div>"
            ],
            "text/plain": [
              "         Date        State    District  Active  Confirmed  Recovered  Deaths  \\\n",
              "0  31/10/2021  Maharashtra  Ahmednagar    2292     339457     330122    7043   \n",
              "1  31/10/2021  Maharashtra       Akola      21      58764      57318    1425   \n",
              "2  31/10/2021  Maharashtra    Amravati      19      96231      94618    1594   \n",
              "3  31/10/2021  Maharashtra  Aurangabad     465     155331     150615    4251   \n",
              "4  31/10/2021  Maharashtra        Beed     140     103749     100803    2806   \n",
              "\n",
              "   Vaccinated  Case fatality Ratio  Case Positivity  Risk percentage  \n",
              "0        16.8             2.074784             6.52         9.829568  \n",
              "1        15.4             2.424954             0.67         4.749908  \n",
              "2        20.1             1.656431             1.32         3.627862  \n",
              "3        12.8             2.736736             2.13         6.963473  \n",
              "4        17.8             2.704604             1.76         6.279209  "
            ]
          },
          "execution_count": 1,
          "metadata": {},
          "output_type": "execute_result"
        }
      ],
      "source": [
        "import pandas as pd\n",
        "data = pd.read_csv('maharashtra_final_data_modified.csv')\n",
        "data.head() # displaying top 5 rows from data"
      ]
    },
    {
      "cell_type": "markdown",
      "id": "efcc3bfd",
      "metadata": {
        "id": "efcc3bfd"
      },
      "source": [
        "# Please enter the city"
      ]
    },
    {
      "cell_type": "code",
      "execution_count": null,
      "id": "211a9eae",
      "metadata": {
        "id": "211a9eae",
        "outputId": "8595bc37-2a91-40ca-82ce-b7405c0ac835"
      },
      "outputs": [
        {
          "name": "stdout",
          "output_type": "stream",
          "text": [
            "\n",
            " Enter the City:  Thane\n",
            "19.1943294 72.9701779\n"
          ]
        }
      ],
      "source": [
        "from geopy.geocoders import Nominatim  # importing geopy api\n",
        "geolocator = Nominatim(user_agent=\"my_user_agent\")\n",
        "curr_city = input(\"\\n Enter the City:  \")\n",
        "loc1 = geolocator.geocode(curr_city) # location of current city \n",
        "lati1 = loc1.latitude\n",
        "longi1 = loc1.longitude\n",
        "print(lati1,longi1)"
      ]
    },
    {
      "cell_type": "markdown",
      "id": "3ed1f0e8",
      "metadata": {
        "id": "3ed1f0e8"
      },
      "source": [
        "# Importing required geopy libraries and reading District from our data"
      ]
    },
    {
      "cell_type": "code",
      "execution_count": null,
      "id": "ce2940c4",
      "metadata": {
        "id": "ce2940c4",
        "outputId": "86a9fbc8-78c1-4865-e8e4-334ccf8653e9"
      },
      "outputs": [
        {
          "data": {
            "text/plain": [
              "0    Ahmednagar\n",
              "1         Akola\n",
              "2      Amravati\n",
              "3    Aurangabad\n",
              "4          Beed\n",
              "Name: District, dtype: object"
            ]
          },
          "execution_count": 3,
          "metadata": {},
          "output_type": "execute_result"
        }
      ],
      "source": [
        "from geopy.distance import geodesic\n",
        "locat1 = (lati1,longi1)\n",
        "cities = data['District']\n",
        "cities.head()"
      ]
    },
    {
      "cell_type": "markdown",
      "id": "75586695",
      "metadata": {
        "id": "75586695"
      },
      "source": [
        "# The Nearest District correponding to our District"
      ]
    },
    {
      "cell_type": "code",
      "execution_count": null,
      "id": "3c2012b5",
      "metadata": {
        "id": "3c2012b5",
        "outputId": "47ebe6ba-d806-447d-dc29-c21d37db4205"
      },
      "outputs": [
        {
          "name": "stdout",
          "output_type": "stream",
          "text": [
            "Minimum Distance:  16.33659377570526\n",
            "Nearest District:  Mumbai\n"
          ]
        },
        {
          "data": {
            "text/html": [
              "<div>\n",
              "<style scoped>\n",
              "    .dataframe tbody tr th:only-of-type {\n",
              "        vertical-align: middle;\n",
              "    }\n",
              "\n",
              "    .dataframe tbody tr th {\n",
              "        vertical-align: top;\n",
              "    }\n",
              "\n",
              "    .dataframe thead th {\n",
              "        text-align: right;\n",
              "    }\n",
              "</style>\n",
              "<table border=\"1\" class=\"dataframe\">\n",
              "  <thead>\n",
              "    <tr style=\"text-align: right;\">\n",
              "      <th></th>\n",
              "      <th>Date</th>\n",
              "      <th>State</th>\n",
              "      <th>District</th>\n",
              "      <th>Active</th>\n",
              "      <th>Confirmed</th>\n",
              "      <th>Recovered</th>\n",
              "      <th>Deaths</th>\n",
              "      <th>Vaccinated</th>\n",
              "      <th>Case fatality Ratio</th>\n",
              "      <th>Case Positivity</th>\n",
              "      <th>Risk percentage</th>\n",
              "    </tr>\n",
              "  </thead>\n",
              "  <tbody>\n",
              "    <tr>\n",
              "      <th>16</th>\n",
              "      <td>31/10/2021</td>\n",
              "      <td>Maharashtra</td>\n",
              "      <td>Mumbai</td>\n",
              "      <td>7184</td>\n",
              "      <td>756749</td>\n",
              "      <td>733318</td>\n",
              "      <td>16247</td>\n",
              "      <td>20.9</td>\n",
              "      <td>2.146947</td>\n",
              "      <td>12.34</td>\n",
              "      <td>15.588894</td>\n",
              "    </tr>\n",
              "  </tbody>\n",
              "</table>\n",
              "</div>"
            ],
            "text/plain": [
              "          Date        State District  Active  Confirmed  Recovered  Deaths  \\\n",
              "16  31/10/2021  Maharashtra   Mumbai    7184     756749     733318   16247   \n",
              "\n",
              "    Vaccinated  Case fatality Ratio  Case Positivity  Risk percentage  \n",
              "16        20.9             2.146947            12.34        15.588894  "
            ]
          },
          "execution_count": 4,
          "metadata": {},
          "output_type": "execute_result"
        }
      ],
      "source": [
        "minimum = 100000000\n",
        "\n",
        "for next_city in cities:\n",
        "    \n",
        "    loc2 = geolocator.geocode(next_city)\n",
        "    lati2 = loc2.latitude\n",
        "    longi2 = loc2.longitude\n",
        "    \n",
        "    locat2 = (lati2,longi2)\n",
        "    dist = geodesic(locat1,locat2).km  #calculate the distance between two locations\n",
        "    if dist<minimum and dist!=0:\n",
        "        minimum = dist\n",
        "        location = next_city\n",
        "        \n",
        "print(\"Minimum Distance: \", minimum)\n",
        "print(\"Nearest District: \", location)\n",
        "val = data.loc[data['District'] == location]\n",
        "val\n"
      ]
    },
    {
      "cell_type": "code",
      "execution_count": null,
      "id": "8d4f04d3",
      "metadata": {
        "id": "8d4f04d3"
      },
      "outputs": [],
      "source": [
        ""
      ]
    }
  ],
  "metadata": {
    "kernelspec": {
      "display_name": "Python 3",
      "language": "python",
      "name": "python3"
    },
    "language_info": {
      "codemirror_mode": {
        "name": "ipython",
        "version": 3
      },
      "file_extension": ".py",
      "mimetype": "text/x-python",
      "name": "python",
      "nbconvert_exporter": "python",
      "pygments_lexer": "ipython3",
      "version": "3.8.8"
    },
    "colab": {
      "name": "Ajayan_District.ipynb",
      "provenance": [],
      "include_colab_link": true
    }
  },
  "nbformat": 4,
  "nbformat_minor": 5
}